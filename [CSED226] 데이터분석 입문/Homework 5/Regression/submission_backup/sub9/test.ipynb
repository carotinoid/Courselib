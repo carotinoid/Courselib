{
 "cells": [
  {
   "cell_type": "code",
   "execution_count": 2,
   "metadata": {},
   "outputs": [
    {
     "name": "stdout",
     "output_type": "stream",
     "text": [
      "Fitting 5 folds for each of 100 candidates, totalling 500 fits\n",
      "{'n_estimators': 500, 'min_samples_split': 2, 'min_samples_leaf': 1, 'max_features': 'log2', 'max_depth': None}\n",
      "        ID       MIN\n",
      "0        1    40.554\n",
      "1        2  2368.948\n",
      "2        3  1652.484\n",
      "3        4   454.422\n",
      "4        5   128.192\n",
      "...    ...       ...\n",
      "1995  1996  2598.434\n",
      "1996  1997  1103.126\n",
      "1997  1998   978.408\n",
      "1998  1999  1095.178\n",
      "1999  2000   375.092\n",
      "\n",
      "[2000 rows x 2 columns]\n"
     ]
    }
   ],
   "source": [
    "import numpy as np\n",
    "import pandas as pd\n",
    "import matplotlib.pyplot as plt\n",
    "import seaborn as sns\n",
    "from scipy import stats\n",
    "from sklearn.preprocessing import StandardScaler, LabelEncoder, MinMaxScaler\n",
    "from sklearn.tree import DecisionTreeClassifier\n",
    "from sklearn.model_selection import train_test_split, GridSearchCV, cross_val_score, RandomizedSearchCV\n",
    "from sklearn.model_selection import StratifiedKFold, KFold\n",
    "from sklearn.metrics import f1_score, classification_report, confusion_matrix\n",
    "from sklearn.decomposition import PCA\n",
    "from sklearn.manifold import TSNE\n",
    "from sklearn.ensemble import RandomForestClassifier, RandomForestRegressor\n",
    "from xgboost import XGBClassifier,XGBRFClassifier, XGBRegressor, XGBRFRegressor\n",
    "from sklearn.feature_selection import RFE\n",
    "from sklearn.svm import SVC\n",
    "from importlib import reload\n",
    "from pactools.grid_search import GridSearchCVProgressBar\n",
    "import sys\n",
    "\n",
    "training_data = pd.read_csv('2024-introduction-to-data-analysis-hw-5-2/train.csv')\n",
    "testing_data = pd.read_csv('2024-introduction-to-data-analysis-hw-5-2/test.csv')\n",
    "training_data.drop(columns=[\"SEASON_ID\", \"TEAM_ID\", 'position'], inplace=True)\n",
    "testing_data.drop(columns=[\"ID\", \"SEASON_ID\", \"TEAM_ID\"], inplace=True)\n",
    "\n",
    "training_data.dropna(subset=[\"MIN\"], inplace=True)\n",
    "training_data.fillna(0, inplace=True)\n",
    "\n",
    "X = training_data.drop(columns=[\"MIN\"])\n",
    "y = training_data[\"MIN\"]\n",
    "\n",
    "params = {\n",
    "    \"n_estimators\": [10, 50, 100, 200, 500],\n",
    "    \"max_depth\": [None, 10, 20, 50, 100],\n",
    "    \"min_samples_split\": [2, 5, 10],\n",
    "    \"min_samples_leaf\": [1, 2, 4],\n",
    "    \"max_features\": [1, \"sqrt\", \"log2\"]\n",
    "}\n",
    "\n",
    "model = RandomForestRegressor()\n",
    "grid = RandomizedSearchCV(model, params, n_iter=100, cv=5, verbose=1, n_jobs=-1, scoring=\"neg_mean_squared_error\")\n",
    "grid.fit(X, y)\n",
    "print(grid.best_params_)\n",
    "model = grid.best_estimator_\n",
    "# model.fit(X, y)\n",
    "\n",
    "y_pred = model.predict(testing_data)\n",
    "submission_df = pd.DataFrame()\n",
    "temp = pd.read_csv('2024-introduction-to-data-analysis-hw-5-2/test.csv')\n",
    "submission_df[\"ID\"] = temp[\"ID\"]\n",
    "submission_df[\"MIN\"] = y_pred\n",
    "print(submission_df)\n",
    "submission_df.to_csv(\"test_submission.csv\", index=False)"
   ]
  }
 ],
 "metadata": {
  "kernelspec": {
   "display_name": "Python 3",
   "language": "python",
   "name": "python3"
  },
  "language_info": {
   "codemirror_mode": {
    "name": "ipython",
    "version": 3
   },
   "file_extension": ".py",
   "mimetype": "text/x-python",
   "name": "python",
   "nbconvert_exporter": "python",
   "pygments_lexer": "ipython3",
   "version": "3.10.6"
  }
 },
 "nbformat": 4,
 "nbformat_minor": 2
}
