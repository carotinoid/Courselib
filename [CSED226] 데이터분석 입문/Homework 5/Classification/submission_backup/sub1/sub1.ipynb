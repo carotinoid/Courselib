{
 "cells": [
  {
   "cell_type": "markdown",
   "metadata": {},
   "source": [
    "### Logistics summary\n",
    "You can use any models or methods you have learned in class (Decision Tree, Ensembles, SVM, etc.) *except kNN   \n",
    "In the classification task, we will use Weighted F1 score for the evaluation metric.\n",
    "\n",
    "### Versions\n",
    "> 3.10.6 (tags/v3.10.6:9c7b4bd, Aug  1 2022, 21:53:49) [MSC v.1932 64 bit (AMD64)]   \n",
    "> numpy: 2.1.0   \n",
    "> pandas: 2.2.2   \n",
    "> matplotlib.pyplot: 3.9.2   \n",
    "> sklearn: 1.5.2   \n",
    "> scipy: 1.14.1   \n",
    "> seaborn: 0.13.2   \n",
    "> xgboost: 2.1.2   \n"
   ]
  },
  {
   "cell_type": "markdown",
   "metadata": {},
   "source": [
    "### Import modules"
   ]
  },
  {
   "cell_type": "code",
   "execution_count": 162,
   "metadata": {},
   "outputs": [],
   "source": [
    "import numpy as np\n",
    "import pandas as pd\n",
    "import matplotlib.pyplot as plt\n",
    "import seaborn as sns\n",
    "from scipy import stats\n",
    "from sklearn.preprocessing import StandardScaler, LabelEncoder, MinMaxScaler\n",
    "from sklearn.tree import DecisionTreeClassifier\n",
    "from sklearn.model_selection import train_test_split, GridSearchCV, cross_val_score\n",
    "from sklearn.model_selection import StratifiedKFold, KFold\n",
    "from sklearn.metrics import f1_score, classification_report, confusion_matrix\n",
    "from sklearn.decomposition import PCA\n",
    "from sklearn.manifold import TSNE\n",
    "from sklearn.ensemble import RandomForestClassifier\n",
    "from xgboost import XGBClassifier\n",
    "from sklearn.feature_selection import RFE\n",
    "from sklearn.svm import SVC"
   ]
  },
  {
   "cell_type": "markdown",
   "metadata": {},
   "source": [
    "### Settings"
   ]
  },
  {
   "cell_type": "code",
   "execution_count": 163,
   "metadata": {},
   "outputs": [
    {
     "data": {
      "text/plain": [
       "<module 'settings' from 'd:\\\\Workspace\\\\AI_homework_5\\\\Classification\\\\settings.py'>"
      ]
     },
     "execution_count": 163,
     "metadata": {},
     "output_type": "execute_result"
    }
   ],
   "source": [
    "from importlib import reload\n",
    "import sys\n",
    "from settings import *\n",
    "reload(sys.modules['settings'])"
   ]
  },
  {
   "cell_type": "markdown",
   "metadata": {},
   "source": [
    "### Output log"
   ]
  },
  {
   "cell_type": "code",
   "execution_count": 164,
   "metadata": {},
   "outputs": [],
   "source": [
    "if LOG:\n",
    "    log_file = open(LOG_FILE, 'w')"
   ]
  },
  {
   "cell_type": "markdown",
   "metadata": {},
   "source": [
    "### Import CSV data, Preprocessing #1"
   ]
  },
  {
   "cell_type": "code",
   "execution_count": 165,
   "metadata": {},
   "outputs": [
    {
     "name": "stdout",
     "output_type": "stream",
     "text": [
      "['GP', 'GS', 'MIN']\n",
      "19\n"
     ]
    }
   ],
   "source": [
    "training_data = pd.read_csv(DATA_PATH + \"\\\\train.csv\")\n",
    "testing_data = pd.read_csv(DATA_PATH + \"\\\\test.csv\")\n",
    "\n",
    "# Label encoding\n",
    "label_encoder = LabelEncoder()\n",
    "training_data[\"position\"] = label_encoder.fit_transform(training_data[\"position\"])\n",
    "# Drop unnecessary columns\n",
    "drop_col = []\n",
    "for col in training_data.columns:\n",
    "    if col not in testing_data.columns:\n",
    "        drop_col.append(col)\n",
    "drop_col.remove(\"position\")\n",
    "training_data.drop(columns=drop_col, inplace=True)\n",
    "training_data.drop(columns=[\"SEASON_ID\", \"TEAM_ID\"], inplace=True)\n",
    "testing_data.drop(columns=[\"ID\", \"SEASON_ID\", \"TEAM_ID\"], inplace=True)\n",
    "# Process missing values\n",
    "if METHOD_PROCESSING_MISSING_VALUES == \"drop\":\n",
    "    training_data.dropna(inplace=True)\n",
    "elif METHOD_PROCESSING_MISSING_VALUES == \"mean\":\n",
    "    training_data.fillna(training_data.mean(), inplace=True)\n",
    "elif METHOD_PROCESSING_MISSING_VALUES == \"med\":\n",
    "    training_data.fillna(training_data.median(), inplace=True)\n",
    "elif METHOD_PROCESSING_MISSING_VALUES == \"mode\":\n",
    "    training_data.fillna(training_data.mode(), inplace=True)\n",
    "else:\n",
    "    raise(\"Invalid method for processing missing values\")\n",
    "# Divide data into X and y\n",
    "X = training_data.drop(columns=[\"position\"])\n",
    "y = training_data[\"position\"]\n",
    "# TSNE or PCA\n",
    "if ADD_TSNE[0] == True:\n",
    "    tsne = TSNE(n_components=ADD_TSNE[1])\n",
    "    X_tsne = tsne.fit_transform(X)\n",
    "    X = pd.concat([X, pd.DataFrame(X_tsne)], axis=1)\n",
    "if ADD_PCA[0] == True:\n",
    "    pca = PCA(n_components=ADD_PCA[1])\n",
    "    X_pca = pca.fit_transform(X)\n",
    "    X = pd.concat([X, pd.DataFrame(X_pca)], axis=1)\n",
    "# Info. of data\n",
    "print(drop_col)\n",
    "print(len(X.columns))\n",
    "training_data\n",
    "\n",
    "if LOG:\n",
    "    try: \n",
    "        log_file.write(\"Number of columns: \" + str(len(X.columns)) + \"\\n\")\n",
    "        log_file.write(\"Number of rows: \" + str(len(X)) + \"\\n\")\n",
    "        log_file.write(\"Columns: \")\n",
    "        for col in X.columns:\n",
    "            log_file.write(col + \" \")\n",
    "        log_file.write(\"\\n\")\n",
    "    except IOError:\n",
    "        print(\"logger is not working\")"
   ]
  },
  {
   "cell_type": "markdown",
   "metadata": {},
   "source": [
    "### EDA (Heatmap)"
   ]
  },
  {
   "cell_type": "code",
   "execution_count": 166,
   "metadata": {},
   "outputs": [],
   "source": [
    "## Output image was saved as \"Corr_heatmap.png\" in WORKSPACE folder.\n",
    "\n",
    "# plt.figure(figsize=(15,15))\n",
    "# figure = sns.heatmap(training_data.corr(), annot=True, fmt=\".2f\")\n",
    "\n",
    "# plt.show()"
   ]
  },
  {
   "cell_type": "markdown",
   "metadata": {},
   "source": [
    "### Feature Selection"
   ]
  },
  {
   "cell_type": "code",
   "execution_count": 167,
   "metadata": {},
   "outputs": [
    {
     "name": "stdout",
     "output_type": "stream",
     "text": [
      "Selected features: PLAYER_AGE, FGA, FG_PCT, FG3A, FTM, FT_PCT, OREB, DREB, REB, AST, STL, BLK, TOV, PF, \n"
     ]
    }
   ],
   "source": [
    "if 0 > NUM_SELECTED_FEATURES or NUM_SELECTED_FEATURES > len(X.columns):\n",
    "    raise(\"Invalid number of selected features\")\n",
    "rfe = RFE(estimator=DecisionTreeClassifier(), n_features_to_select=NUM_SELECTED_FEATURES)\n",
    "rfe.fit(X, y)\n",
    "\n",
    "print(\"Selected features: \", end=\"\")\n",
    "for i in range(X.shape[1]):\n",
    "    if rfe.support_[i]:\n",
    "        print(X.columns[i], end=\", \")\n",
    "print()\n",
    "\n",
    "X_selected = rfe.transform(X)\n",
    "testing_data_selected = rfe.transform(testing_data)\n",
    "\n",
    "if LOG:\n",
    "    try:\n",
    "        log_file.write(\"Number of selected features: \" + str(NUM_SELECTED_FEATURES) + \"\\n\")\n",
    "        log_file.write(\"Selected features: \")\n",
    "        for i in range(X.shape[1]):\n",
    "            if rfe.support_[i]:\n",
    "                log_file.write(X.columns[i] + \", \")\n",
    "        log_file.write(\"\\n\")\n",
    "    except IOError:\n",
    "        print(\"logger is not working\")\n"
   ]
  },
  {
   "cell_type": "markdown",
   "metadata": {},
   "source": [
    "### Model Selection"
   ]
  },
  {
   "cell_type": "code",
   "execution_count": 168,
   "metadata": {},
   "outputs": [
    {
     "name": "stdout",
     "output_type": "stream",
     "text": [
      "<class 'xgboost.sklearn.XGBClassifier'>\n",
      "0.6158843005912215\n",
      "              precision    recall  f1-score   support\n",
      "\n",
      "           0       0.58      0.66      0.62       308\n",
      "           1       0.43      0.10      0.17        98\n",
      "           2       0.57      0.73      0.64       748\n",
      "           3       0.23      0.07      0.11       134\n",
      "           4       0.36      0.07      0.12        55\n",
      "           5       0.80      0.87      0.83       884\n",
      "           6       0.34      0.11      0.17       149\n",
      "           7       0.00      0.00      0.00        15\n",
      "\n",
      "    accuracy                           0.65      2391\n",
      "   macro avg       0.42      0.33      0.33      2391\n",
      "weighted avg       0.61      0.65      0.62      2391\n",
      "\n"
     ]
    },
    {
     "name": "stderr",
     "output_type": "stream",
     "text": [
      "c:\\Users\\carot\\AppData\\Local\\Programs\\Python\\Python310\\lib\\site-packages\\sklearn\\metrics\\_classification.py:1531: UndefinedMetricWarning: Precision is ill-defined and being set to 0.0 in labels with no predicted samples. Use `zero_division` parameter to control this behavior.\n",
      "  _warn_prf(average, modifier, f\"{metric.capitalize()} is\", len(result))\n",
      "c:\\Users\\carot\\AppData\\Local\\Programs\\Python\\Python310\\lib\\site-packages\\sklearn\\metrics\\_classification.py:1531: UndefinedMetricWarning: Precision is ill-defined and being set to 0.0 in labels with no predicted samples. Use `zero_division` parameter to control this behavior.\n",
      "  _warn_prf(average, modifier, f\"{metric.capitalize()} is\", len(result))\n",
      "c:\\Users\\carot\\AppData\\Local\\Programs\\Python\\Python310\\lib\\site-packages\\sklearn\\metrics\\_classification.py:1531: UndefinedMetricWarning: Precision is ill-defined and being set to 0.0 in labels with no predicted samples. Use `zero_division` parameter to control this behavior.\n",
      "  _warn_prf(average, modifier, f\"{metric.capitalize()} is\", len(result))\n",
      "c:\\Users\\carot\\AppData\\Local\\Programs\\Python\\Python310\\lib\\site-packages\\sklearn\\metrics\\_classification.py:1531: UndefinedMetricWarning: Precision is ill-defined and being set to 0.0 in labels with no predicted samples. Use `zero_division` parameter to control this behavior.\n",
      "  _warn_prf(average, modifier, f\"{metric.capitalize()} is\", len(result))\n",
      "c:\\Users\\carot\\AppData\\Local\\Programs\\Python\\Python310\\lib\\site-packages\\sklearn\\metrics\\_classification.py:1531: UndefinedMetricWarning: Precision is ill-defined and being set to 0.0 in labels with no predicted samples. Use `zero_division` parameter to control this behavior.\n",
      "  _warn_prf(average, modifier, f\"{metric.capitalize()} is\", len(result))\n",
      "c:\\Users\\carot\\AppData\\Local\\Programs\\Python\\Python310\\lib\\site-packages\\sklearn\\metrics\\_classification.py:1531: UndefinedMetricWarning: Precision is ill-defined and being set to 0.0 in labels with no predicted samples. Use `zero_division` parameter to control this behavior.\n",
      "  _warn_prf(average, modifier, f\"{metric.capitalize()} is\", len(result))\n"
     ]
    }
   ],
   "source": [
    "X_train, X_val, y_train, y_val = train_test_split(X_selected, y, test_size=0.2, random_state=42)\n",
    "\n",
    "#MODEL_TYPE = \"dt\" # \"dt\", \"en-rf\", \"en-xgbst\", \"svm\"\n",
    "\n",
    "model = None\n",
    "if MODEL_TYPE == \"dt\":\n",
    "    model = DecisionTreeClassifier()\n",
    "elif MODEL_TYPE == \"en-rf\":\n",
    "    model = RandomForestClassifier()\n",
    "elif MODEL_TYPE == \"en-xgbst\":\n",
    "    model = XGBClassifier()\n",
    "elif MODEL_TYPE == \"svm\":\n",
    "    model = SVC()\n",
    "else: \n",
    "    raise(\"Invalid model type\")\n",
    "\n",
    "print(type(model))\n",
    "model.fit(X_train, y_train)\n",
    "\n",
    "y_pred = model.predict(X_val)\n",
    "print(f1_score(y_val, y_pred, average=\"weighted\"))\n",
    "print(classification_report(y_val, y_pred))\n",
    "\n",
    "# Baseline of Decision Tree: 0.50~0.52\n",
    "# Baseline of Random Forest: 0.59\n",
    "\n",
    "if LOG:\n",
    "    try: \n",
    "        log_file.write(\"Model: \" + str(type(model)) + \"\\n\")\n",
    "        log_file.write(\"F1 score: \" + str(f1_score(y_val, y_pred, average=\"weighted\")) + \"\\n\")\n",
    "        log_file.write(\"Classification report: \\n\" + classification_report(y_val, y_pred) + \"\\n\")\n",
    "    except IOError:\n",
    "        print(\"logger is not working\")"
   ]
  },
  {
   "cell_type": "markdown",
   "metadata": {},
   "source": [
    "### Training new model with selected model, hyper parameters."
   ]
  },
  {
   "cell_type": "code",
   "execution_count": 173,
   "metadata": {},
   "outputs": [
    {
     "name": "stdout",
     "output_type": "stream",
     "text": [
      "        ID        position\n",
      "0        1         Forward\n",
      "1        2           Guard\n",
      "2        3           Guard\n",
      "3        4          Center\n",
      "4        5          Center\n",
      "...    ...             ...\n",
      "1995  1996           Guard\n",
      "1996  1997           Guard\n",
      "1997  1998         Forward\n",
      "1998  1999  Forward-Center\n",
      "1999  2000           Guard\n",
      "\n",
      "[2000 rows x 2 columns]\n"
     ]
    }
   ],
   "source": [
    "def for_submission():\n",
    "    model = XGBClassifier()\n",
    "    model.fit(X_selected, y)\n",
    "\n",
    "    y_pred = model.predict(testing_data_selected)\n",
    "\n",
    "    submission_df = pd.DataFrame()\n",
    "    temp = pd.read_csv(DATA_PATH + \"\\\\test.csv\")\n",
    "    submission_df[\"ID\"] = temp[\"ID\"]\n",
    "    \n",
    "    submission_df[\"position\"] = label_encoder.inverse_transform(y_pred)\n",
    "\n",
    "    print(submission_df)\n",
    "    submission_df.to_csv(\"submission.csv\", index=False)\n",
    "\n",
    "for_submission()\n"
   ]
  },
  {
   "cell_type": "markdown",
   "metadata": {},
   "source": [
    "\n",
    "---\n",
    "### Close log."
   ]
  },
  {
   "cell_type": "code",
   "execution_count": 170,
   "metadata": {},
   "outputs": [],
   "source": [
    "try:\n",
    "    log_file.close()\n",
    "except IOError:\n",
    "    print(\"logger is not working\")"
   ]
  }
 ],
 "metadata": {
  "kernelspec": {
   "display_name": "Python 3",
   "language": "python",
   "name": "python3"
  },
  "language_info": {
   "codemirror_mode": {
    "name": "ipython",
    "version": 3
   },
   "file_extension": ".py",
   "mimetype": "text/x-python",
   "name": "python",
   "nbconvert_exporter": "python",
   "pygments_lexer": "ipython3",
   "version": "3.10.6"
  }
 },
 "nbformat": 4,
 "nbformat_minor": 2
}
