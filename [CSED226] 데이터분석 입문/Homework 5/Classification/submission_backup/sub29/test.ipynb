{
 "cells": [
  {
   "cell_type": "code",
   "execution_count": 30,
   "metadata": {},
   "outputs": [
    {
     "name": "stdout",
     "output_type": "stream",
     "text": [
      "Fitting 5 folds for each of 100 candidates, totalling 500 fits\n",
      "{'n_estimators': 300, 'min_samples_split': 5, 'min_samples_leaf': 1, 'max_depth': 40, 'bootstrap': False}\n",
      "        ID        position\n",
      "0        1         Forward\n",
      "1        2           Guard\n",
      "2        3           Guard\n",
      "3        4          Center\n",
      "4        5          Center\n",
      "...    ...             ...\n",
      "1995  1996         Forward\n",
      "1996  1997         Forward\n",
      "1997  1998         Forward\n",
      "1998  1999  Forward-Center\n",
      "1999  2000           Guard\n",
      "\n",
      "[2000 rows x 2 columns]\n"
     ]
    }
   ],
   "source": [
    "import numpy as np\n",
    "import pandas as pd\n",
    "import matplotlib.pyplot as plt\n",
    "import seaborn as sns\n",
    "from scipy import stats\n",
    "from sklearn.preprocessing import StandardScaler, LabelEncoder, MinMaxScaler\n",
    "from sklearn.tree import DecisionTreeClassifier\n",
    "from sklearn.model_selection import train_test_split, GridSearchCV, cross_val_score, RandomizedSearchCV\n",
    "from sklearn.model_selection import StratifiedKFold, KFold\n",
    "from sklearn.metrics import f1_score, classification_report, confusion_matrix\n",
    "from sklearn.decomposition import PCA\n",
    "from sklearn.manifold import TSNE\n",
    "from sklearn.ensemble import RandomForestClassifier, RandomForestRegressor\n",
    "from xgboost import XGBClassifier,XGBRFClassifier, XGBRegressor, XGBRFRegressor\n",
    "from sklearn.feature_selection import RFE\n",
    "from sklearn.svm import SVC\n",
    "from importlib import reload\n",
    "from pactools.grid_search import GridSearchCVProgressBar\n",
    "import sys\n",
    "\n",
    "training_data = pd.read_csv('2024-introduction-to-data-analysis-hw-5-1/train.csv')\n",
    "testing_data = pd.read_csv('2024-introduction-to-data-analysis-hw-5-1/test.csv')\n",
    "\n",
    "# training_data.dropna(inplace=True)\n",
    "training_data.dropna(subset=[\"position\"], inplace=True)\n",
    "training_data.fillna(0, inplace=True)\n",
    "\n",
    "training_data.drop(columns=[\"SEASON_ID\", \"TEAM_ID\", 'GP', 'GS', 'MIN'], inplace=True)\n",
    "testing_data.drop(columns=[\"ID\", \"SEASON_ID\", \"TEAM_ID\"], inplace=True)\n",
    "\n",
    "label_encoder = LabelEncoder()\n",
    "training_data[\"position\"] = label_encoder.fit_transform(training_data[\"position\"])\n",
    "\n",
    "X = training_data.drop(columns=[\"position\"])\n",
    "y = training_data[\"position\"]\n",
    "\n",
    "params = {\n",
    "    'n_estimators': [100, 200, 300, 400],\n",
    "    'max_depth': [10, 20, 30, 40, 50],\n",
    "    'min_samples_split': [2, 5, 10],\n",
    "    'min_samples_leaf': [1, 2, 4],\n",
    "    'bootstrap': [True, False]\n",
    "}\n",
    "\n",
    "model = RandomForestClassifier()\n",
    "search = RandomizedSearchCV(model, params, n_iter=100, cv=5, verbose=1, n_jobs=-1)\n",
    "search.fit(X, y)\n",
    "print(search.best_params_)\n",
    "# model.fit(X, y)\n",
    "model = search.best_estimator_\n",
    "\n",
    "y_pred = model.predict(testing_data)\n",
    "submission_df = pd.DataFrame()\n",
    "temp = pd.read_csv('2024-introduction-to-data-analysis-hw-5-1/test.csv')\n",
    "submission_df[\"ID\"] = temp[\"ID\"]\n",
    "submission_df[\"position\"] = label_encoder.inverse_transform(y_pred)\n",
    "print(submission_df)\n",
    "submission_df.to_csv(\"test_submission.csv\", index=False)"
   ]
  }
 ],
 "metadata": {
  "kernelspec": {
   "display_name": "Python 3",
   "language": "python",
   "name": "python3"
  },
  "language_info": {
   "codemirror_mode": {
    "name": "ipython",
    "version": 3
   },
   "file_extension": ".py",
   "mimetype": "text/x-python",
   "name": "python",
   "nbconvert_exporter": "python",
   "pygments_lexer": "ipython3",
   "version": "3.10.6"
  }
 },
 "nbformat": 4,
 "nbformat_minor": 2
}
