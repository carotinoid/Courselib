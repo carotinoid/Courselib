{
 "cells": [
  {
   "cell_type": "code",
   "execution_count": 131,
   "metadata": {},
   "outputs": [],
   "source": [
    "# import modules\n",
    "import pandas as pd\n",
    "import numpy as np\n",
    "from sklearn.preprocessing import StandardScaler, OneHotEncoder, MinMaxScaler\n",
    "from sklearn.cluster import KMeans, DBSCAN, OPTICS\n",
    "from sklearn.metrics import silhouette_score\n",
    "from kmodes.kprototypes import KPrototypes\n",
    "from sklearn.preprocessing import LabelEncoder\n",
    "from sklearn.decomposition import PCA\n",
    "from sklearn.manifold import TSNE\n",
    "import matplotlib.pyplot as plt"
   ]
  },
  {
   "cell_type": "code",
   "execution_count": 132,
   "metadata": {},
   "outputs": [],
   "source": [
    "# age               : Int\n",
    "# education         : Categorical\n",
    "# education level   : Int\n",
    "# marital status    : Categorical\n",
    "# Occupation        : Catagorical\n",
    "# relationship      : Categorical\n",
    "# race              : Categorical\n",
    "# sex               : Categorical\n",
    "# Investment profit : Int, but almost all 0\n",
    "# Investment loss   : Int, but almost all 0\n",
    "# hours per week    : Int\n",
    "# native country    : Categorical\n",
    "# income            : Conditional (e.g. <=50k, >50k)"
   ]
  },
  {
   "cell_type": "code",
   "execution_count": 133,
   "metadata": {},
   "outputs": [],
   "source": [
    "df = pd.read_csv('data/survey.csv')\n",
    "df = df.drop(columns=['Investment profit', 'Investment loss'])\n",
    "# for col in df.columns:\n",
    "#     if col not in ['age', 'education level', 'Investment profit', 'Investment loss', 'hours per week']:\n",
    "#         print(f'{col}: {df[col].unique()}')\n",
    "#         print()\n"
   ]
  },
  {
   "cell_type": "code",
   "execution_count": 134,
   "metadata": {},
   "outputs": [],
   "source": [
    "# Encoding\n",
    "LabelEncoders = {}\n",
    "for col in df.columns:\n",
    "    if col not in ['age', 'education level', 'Investment profit', 'Investment loss', 'hours per week']:\n",
    "        le = LabelEncoder()\n",
    "        df[col] = le.fit_transform(df[col])\n",
    "        LabelEncoders[col] = le\n",
    "\n",
    "\n",
    "# Scaling\n",
    "scaler = MinMaxScaler()\n",
    "df[['age', 'education level', 'hours per week']] = scaler.fit_transform(df[['age', 'education level', 'hours per week']])"
   ]
  },
  {
   "cell_type": "code",
   "execution_count": 135,
   "metadata": {},
   "outputs": [
    {
     "name": "stdout",
     "output_type": "stream",
     "text": [
      "k=3, silhouette_score=0.6091852772197444\n"
     ]
    }
   ],
   "source": [
    "k = 3\n",
    "kmeans = KMeans(n_clusters=k)\n",
    "kmeans.fit(df)\n",
    "print(f'k={k}, silhouette_score={silhouette_score(df, kmeans.labels_)}')\n",
    "submit = pd.DataFrame()\n",
    "submit['ID'] = df.index\n",
    "submit['Employment Type'] = kmeans.labels_\n",
    "submit.to_csv(f'kmeans_{k}.csv', index=False)"
   ]
  }
 ],
 "metadata": {
  "kernelspec": {
   "display_name": "Python 3",
   "language": "python",
   "name": "python3"
  },
  "language_info": {
   "codemirror_mode": {
    "name": "ipython",
    "version": 3
   },
   "file_extension": ".py",
   "mimetype": "text/x-python",
   "name": "python",
   "nbconvert_exporter": "python",
   "pygments_lexer": "ipython3",
   "version": "3.10.6"
  }
 },
 "nbformat": 4,
 "nbformat_minor": 2
}
