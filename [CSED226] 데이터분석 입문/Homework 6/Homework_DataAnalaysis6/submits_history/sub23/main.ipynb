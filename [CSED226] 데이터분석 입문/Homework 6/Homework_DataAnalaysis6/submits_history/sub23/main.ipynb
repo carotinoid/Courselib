{
 "cells": [
  {
   "cell_type": "code",
   "execution_count": 226,
   "metadata": {},
   "outputs": [],
   "source": [
    "# import modules\n",
    "import pandas as pd\n",
    "import numpy as np\n",
    "from sklearn.preprocessing import StandardScaler, OneHotEncoder, MinMaxScaler\n",
    "from sklearn.cluster import KMeans, DBSCAN, OPTICS\n",
    "from sklearn.metrics import silhouette_score\n",
    "from kmodes.kprototypes import KPrototypes\n",
    "from sklearn.preprocessing import LabelEncoder\n",
    "from sklearn.decomposition import PCA\n",
    "from sklearn.manifold import TSNE\n",
    "import matplotlib.pyplot as plt"
   ]
  },
  {
   "cell_type": "code",
   "execution_count": 227,
   "metadata": {},
   "outputs": [],
   "source": [
    "# age               : Int\n",
    "# education         : Categorical\n",
    "# education level   : Int\n",
    "# marital status    : Categorical\n",
    "# Occupation        : Catagorical\n",
    "# relationship      : Categorical\n",
    "# race              : Categorical\n",
    "# sex               : Categorical\n",
    "# Investment profit : Int, but almost all 0\n",
    "# Investment loss   : Int, but almost all 0\n",
    "# hours per week    : Int\n",
    "# native country    : Categorical\n",
    "# income            : Conditional (e.g. <=50k, >50k)"
   ]
  },
  {
   "cell_type": "code",
   "execution_count": 228,
   "metadata": {},
   "outputs": [],
   "source": [
    "df = pd.read_csv('data/survey.csv')\n",
    "df = df.drop(columns=['Investment profit', 'Investment loss'])\n",
    "# for col in df.columns:\n",
    "#     if col not in ['age', 'education level', 'Investment profit', 'Investment loss', 'hours per week']:\n",
    "#         print(f'{col}: {df[col].unique()}')\n",
    "#         print()"
   ]
  },
  {
   "cell_type": "code",
   "execution_count": 230,
   "metadata": {},
   "outputs": [
    {
     "name": "stdout",
     "output_type": "stream",
     "text": [
      "Index(['age', 'education', 'education level', 'marital status', 'Occupation',\n",
      "       'relationship', 'race', 'sex', 'hours per week', 'native country',\n",
      "       'income'],\n",
      "      dtype='object')\n",
      "Initialization method and algorithm are deterministic. Setting n_init to 1.\n",
      "Init: initializing centroids\n",
      "Init: initializing clusters\n",
      "Starting iterations...\n",
      "Run: 1, iteration: 1/100, moves: 984, ncost: 1392869.6100946462\n",
      "Run: 1, iteration: 2/100, moves: 358, ncost: 1385495.067609162\n",
      "Run: 1, iteration: 3/100, moves: 151, ncost: 1384266.223916112\n",
      "Run: 1, iteration: 4/100, moves: 25, ncost: 1384206.503208983\n",
      "Run: 1, iteration: 5/100, moves: 18, ncost: 1384170.5131002408\n",
      "Run: 1, iteration: 6/100, moves: 4, ncost: 1384168.9966083586\n",
      "Run: 1, iteration: 7/100, moves: 0, ncost: 1384168.9966083586\n",
      "Init: initializing centroids\n",
      "Init: initializing clusters\n",
      "Starting iterations...\n",
      "Run: 2, iteration: 1/100, moves: 1245, ncost: 1577632.8082138707\n",
      "Run: 2, iteration: 2/100, moves: 925, ncost: 1503650.8692440642\n",
      "Run: 2, iteration: 3/100, moves: 658, ncost: 1470266.3423061827\n",
      "Run: 2, iteration: 4/100, moves: 522, ncost: 1451592.5170653155\n",
      "Run: 2, iteration: 5/100, moves: 563, ncost: 1427457.7835242453\n",
      "Run: 2, iteration: 6/100, moves: 658, ncost: 1387917.1986296854\n",
      "Run: 2, iteration: 7/100, moves: 201, ncost: 1384823.7011088384\n",
      "Run: 2, iteration: 8/100, moves: 81, ncost: 1384249.3042283864\n",
      "Run: 2, iteration: 9/100, moves: 18, ncost: 1384212.9319413106\n",
      "Run: 2, iteration: 10/100, moves: 11, ncost: 1384191.7904438525\n",
      "Run: 2, iteration: 11/100, moves: 17, ncost: 1384169.8479095192\n",
      "Run: 2, iteration: 12/100, moves: 2, ncost: 1384168.9966083586\n",
      "Run: 2, iteration: 13/100, moves: 0, ncost: 1384168.9966083586\n",
      "Init: initializing centroids\n",
      "Init: initializing clusters\n",
      "Starting iterations...\n",
      "Run: 3, iteration: 1/100, moves: 734, ncost: 1669454.0522145974\n",
      "Run: 3, iteration: 2/100, moves: 1188, ncost: 1524159.7866157275\n",
      "Run: 3, iteration: 3/100, moves: 1176, ncost: 1399202.9769281002\n",
      "Run: 3, iteration: 4/100, moves: 499, ncost: 1384109.2088307617\n",
      "Run: 3, iteration: 5/100, moves: 101, ncost: 1383443.2527503911\n",
      "Run: 3, iteration: 6/100, moves: 35, ncost: 1383350.4366108782\n",
      "Run: 3, iteration: 7/100, moves: 11, ncost: 1383333.6340102048\n",
      "Run: 3, iteration: 8/100, moves: 4, ncost: 1383331.8687331546\n",
      "Run: 3, iteration: 9/100, moves: 0, ncost: 1383331.8687331546\n",
      "Init: initializing centroids\n",
      "Init: initializing clusters\n",
      "Starting iterations...\n",
      "Run: 4, iteration: 1/100, moves: 1329, ncost: 1565665.642033315\n",
      "Run: 4, iteration: 2/100, moves: 616, ncost: 1532841.79804541\n",
      "Run: 4, iteration: 3/100, moves: 279, ncost: 1523611.6251094216\n",
      "Run: 4, iteration: 4/100, moves: 123, ncost: 1521220.5390032015\n",
      "Run: 4, iteration: 5/100, moves: 44, ncost: 1520885.4417548417\n",
      "Run: 4, iteration: 6/100, moves: 50, ncost: 1520455.0689205513\n",
      "Run: 4, iteration: 7/100, moves: 60, ncost: 1520219.639644382\n",
      "Run: 4, iteration: 8/100, moves: 109, ncost: 1519204.418674469\n",
      "Run: 4, iteration: 9/100, moves: 40, ncost: 1519106.0652363421\n",
      "Run: 4, iteration: 10/100, moves: 23, ncost: 1519002.1316697076\n",
      "Run: 4, iteration: 11/100, moves: 12, ncost: 1518986.1425052274\n",
      "Run: 4, iteration: 12/100, moves: 3, ncost: 1518985.209974442\n",
      "Run: 4, iteration: 13/100, moves: 0, ncost: 1518985.209974442\n",
      "Init: initializing centroids\n",
      "Init: initializing clusters\n",
      "Starting iterations...\n",
      "Run: 5, iteration: 1/100, moves: 1865, ncost: 1465426.4034798618\n",
      "Run: 5, iteration: 2/100, moves: 981, ncost: 1404459.9834521827\n",
      "Run: 5, iteration: 3/100, moves: 487, ncost: 1386712.8434507104\n",
      "Run: 5, iteration: 4/100, moves: 174, ncost: 1384460.4200646228\n",
      "Run: 5, iteration: 5/100, moves: 53, ncost: 1384230.653530124\n",
      "Run: 5, iteration: 6/100, moves: 14, ncost: 1384204.1967221552\n",
      "Run: 5, iteration: 7/100, moves: 15, ncost: 1384183.045671999\n",
      "Run: 5, iteration: 8/100, moves: 15, ncost: 1384162.4993669812\n",
      "Run: 5, iteration: 9/100, moves: 8, ncost: 1384147.6900482844\n",
      "Run: 5, iteration: 10/100, moves: 5, ncost: 1384144.5536729628\n",
      "Run: 5, iteration: 11/100, moves: 0, ncost: 1384144.5536729628\n",
      "Best run was number 3\n"
     ]
    }
   ],
   "source": [
    "# K prototype clustering\n",
    "print(df.columns)\n",
    "k = 3\n",
    "# kprototype init list: 'Huang', 'Cao', 'random'\n",
    "Kp = KPrototypes(n_clusters=k, init='Cao', n_init=5, verbose=2)\n",
    "Kp = Kp.fit(df, categorical=[1, 3, 4, 5, 6, 7, 9, 10])\n",
    "\n",
    "# print(f'k={k} silhouette score: {silhouette_score(df, Kp.labels_)}')\n",
    "submit = pd.DataFrame()\n",
    "submit['ID'] = df.index\n",
    "submit['label'] = Kp.labels_\n",
    "submit.to_csv(f'kproto_{k}.csv', index=False)"
   ]
  },
  {
   "cell_type": "code",
   "execution_count": null,
   "metadata": {},
   "outputs": [],
   "source": [
    "# Encoding\n",
    "# LabelEncoders = {}\n",
    "# for col in df.columns:\n",
    "#     if col not in ['age', 'education level', 'Investment profit', 'Investment loss', 'hours per week']:\n",
    "#         le = LabelEncoder()\n",
    "#         df[col] = le.fit_transform(df[col])\n",
    "#         LabelEncoders[col] = le\n",
    "\n",
    "# Scaling\n",
    "# scaler = MinMaxScaler()\n",
    "# df[['age', 'education level', 'hours per week']] = scaler.fit_transform(df[['age', 'education level', 'hours per week']])"
   ]
  },
  {
   "cell_type": "code",
   "execution_count": null,
   "metadata": {},
   "outputs": [
    {
     "name": "stdout",
     "output_type": "stream",
     "text": [
      "k=3, silhouette_score=0.32110355601844065\n"
     ]
    }
   ],
   "source": [
    "# k = 3\n",
    "# kmeans = KMeans(n_clusters=k)\n",
    "# kmeans.fit(df)\n",
    "# print(f'k={k}, silhouette_score={silhouette_score(df, kmeans.labels_)}')\n",
    "# submit = pd.DataFrame()\n",
    "# submit['ID'] = df.index\n",
    "# submit['Employment Type'] = kmeans.labels_\n",
    "# submit.to_csv(f'kmeans_{k}.csv', index=False)"
   ]
  }
 ],
 "metadata": {
  "kernelspec": {
   "display_name": "Python 3",
   "language": "python",
   "name": "python3"
  },
  "language_info": {
   "codemirror_mode": {
    "name": "ipython",
    "version": 3
   },
   "file_extension": ".py",
   "mimetype": "text/x-python",
   "name": "python",
   "nbconvert_exporter": "python",
   "pygments_lexer": "ipython3",
   "version": "3.10.6"
  }
 },
 "nbformat": 4,
 "nbformat_minor": 2
}
