{
 "cells": [
  {
   "cell_type": "code",
   "execution_count": 1,
   "metadata": {},
   "outputs": [],
   "source": [
    "import numpy as np\n",
    "import pandas as pd\n",
    "import matplotlib.pyplot as plt\n",
    "from sklearn.preprocessing import StandardScaler, LabelEncoder, MinMaxScaler\n",
    "from sklearn.tree import DecisionTreeClassifier\n",
    "from sklearn.naive_bayes import GaussianNB\n",
    "from sklearn.neighbors import KNeighborsClassifier, KNeighborsRegressor\n",
    "from sklearn.model_selection import train_test_split, GridSearchCV, cross_val_score\n",
    "from sklearn.model_selection import StratifiedKFold\n",
    "from sklearn.metrics import f1_score, classification_report, confusion_matrix\n",
    "from scipy import stats\n",
    "from sklearn.manifold import TSNE\n",
    "from sklearn.impute import KNNImputer"
   ]
  },
  {
   "cell_type": "code",
   "execution_count": 2,
   "metadata": {},
   "outputs": [
    {
     "name": "stderr",
     "output_type": "stream",
     "text": [
      "c:\\Users\\carot\\AppData\\Local\\Programs\\Python\\Python310\\lib\\site-packages\\joblib\\externals\\loky\\backend\\context.py:136: UserWarning: Could not find the number of physical cores for the following reason:\n",
      "found 0 physical cores < 1\n",
      "Returning the number of logical cores instead. You can silence this warning by setting LOKY_MAX_CPU_COUNT to the number of cores you want to use.\n",
      "  warnings.warn(\n",
      "  File \"c:\\Users\\carot\\AppData\\Local\\Programs\\Python\\Python310\\lib\\site-packages\\joblib\\externals\\loky\\backend\\context.py\", line 282, in _count_physical_cores\n",
      "    raise ValueError(f\"found {cpu_count_physical} physical cores < 1\")\n"
     ]
    }
   ],
   "source": [
    "train_df = pd.read_csv('train.csv')\n",
    "test_df = pd.read_csv('test.csv')\n",
    "\n",
    "# Drop missing data\n",
    "# train_df.dropna(inplace=True)\n",
    "\n",
    "# Drop outliers\n",
    "# z_scores = np.abs(stats.zscore(train_df.select_dtypes(include=[np.number])))\n",
    "# train_df = train_df[(z_scores < 3).all(axis=1)]\n",
    "\n",
    "# train_df['ShootingEfficiency'] = train_df['FG_PCT'] * train_df['FG3_PCT']\n",
    "# test_df['ShootingEfficiency'] = test_df['FG_PCT'] * test_df['FG3_PCT']\n",
    "\n",
    "# train_df['TotalAttempts'] = train_df['FGA'] + train_df['FG3A'] + train_df['FTA']\n",
    "# test_df['TotalAttempts'] = test_df['FGA'] + test_df['FG3A'] + test_df['FTA']\n",
    "\n",
    "X = train_df.drop(['position', 'SEASON_ID', 'TEAM_ID', 'GS', 'GP', 'MIN'], axis=1)\n",
    "y = train_df['position']\n",
    "test_df = test_df.drop(['ID', 'SEASON_ID', 'TEAM_ID'], axis=1)\n",
    "\n",
    "# fill missing data\n",
    "imputer = KNNImputer(n_neighbors=5)\n",
    "imputer.fit(X.dropna())\n",
    "X = imputer.transform(X)\n",
    "\n",
    "# TSNE\n",
    "tsne = TSNE(n_components=3, random_state=42)\n",
    "\n",
    "X_tsne = tsne.fit_transform(X)\n",
    "X_tsne_df = pd.DataFrame(X_tsne, columns=['TSNE1', 'TSNE2', 'TSNE3'])\n",
    "X = pd.DataFrame(X, columns=train_df.drop(['position', 'SEASON_ID', 'TEAM_ID', 'GS', 'GP', 'MIN'], axis=1).columns)\n",
    "X = pd.concat([X, X_tsne_df], axis=1)\n",
    "\n",
    "test_df_tsne = tsne.fit_transform(test_df)\n",
    "test_df_tsne_df = pd.DataFrame(test_df_tsne, columns=['TSNE1', 'TSNE2', 'TSNE3'])\n",
    "test_df = pd.DataFrame(test_df, columns=test_df.columns)\n",
    "test_df = pd.concat([test_df, test_df_tsne_df], axis=1)\n",
    "\n",
    "# standardize data\n",
    "# scaler = StandardScaler()\n",
    "# X = scaler.fit_transform(X)\n",
    "\n",
    "# minmax scale data\n",
    "# scaler = MinMaxScaler()\n",
    "# X = scaler.fit_transform(X)\n",
    "\n",
    "# encode target\n",
    "label_encoder = LabelEncoder()\n",
    "y_encoded = label_encoder.fit_transform(y)\n",
    "\n",
    "# split data into training and validation sets\n",
    "# X_train, X_val, y_train, y_val = train_test_split(X, y_encoded, test_size=0.1, random_state=42)\n",
    "\n",
    "# Model\n",
    "model = KNeighborsClassifier(n_neighbors=12, weights='distance', algorithm='auto')\n",
    "# model = model.fit(X_train, y_train)\n",
    "model = model.fit(X, y_encoded)\n",
    "# f1 score\n",
    "# y_pred = model.predict(X_val)\n",
    "# f1 = f1_score(y_val, y_pred, average='weighted')\n",
    "# print(f\"f1 score: {f1}\")"
   ]
  },
  {
   "cell_type": "code",
   "execution_count": 3,
   "metadata": {},
   "outputs": [],
   "source": [
    "X_test = test_df\n",
    "# X_test = scaler.transform(X_test)\n",
    "y_test = model.predict(X_test)\n",
    "y_test = label_encoder.inverse_transform(y_test)\n",
    "\n",
    "result_df = pd.DataFrame({'ID': np.arange(1, len(y_test) + 1), 'position': y_test})\n",
    "result_df.to_csv('result.csv', index=False)"
   ]
  }
 ],
 "metadata": {
  "kernelspec": {
   "display_name": "Python 3",
   "language": "python",
   "name": "python3"
  },
  "language_info": {
   "codemirror_mode": {
    "name": "ipython",
    "version": 3
   },
   "file_extension": ".py",
   "mimetype": "text/x-python",
   "name": "python",
   "nbconvert_exporter": "python",
   "pygments_lexer": "ipython3",
   "version": "3.10.6"
  }
 },
 "nbformat": 4,
 "nbformat_minor": 2
}
