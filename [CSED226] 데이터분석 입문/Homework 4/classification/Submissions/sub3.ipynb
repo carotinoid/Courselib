{
 "cells": [
  {
   "cell_type": "code",
   "execution_count": 1,
   "metadata": {},
   "outputs": [],
   "source": [
    "import numpy as np\n",
    "import pandas as pd\n",
    "import matplotlib.pyplot as plt\n",
    "from sklearn.preprocessing import StandardScaler, LabelEncoder\n",
    "from sklearn.tree import DecisionTreeClassifier\n",
    "from sklearn.naive_bayes import GaussianNB\n",
    "from sklearn.neighbors import KNeighborsClassifier\n",
    "from sklearn.model_selection import train_test_split, GridSearchCV, cross_val_score\n",
    "from sklearn.model_selection import StratifiedKFold\n",
    "from sklearn.metrics import f1_score, classification_report, confusion_matrix\n",
    "from scipy import stats\n",
    "\n",
    "from f1score import score\n",
    "import kaggle_metric_utilities"
   ]
  },
  {
   "cell_type": "code",
   "execution_count": 3,
   "metadata": {},
   "outputs": [],
   "source": [
    "train_df = pd.read_csv('train.csv')\n",
    "test_df = pd.read_csv('test.csv')\n",
    "train_df.dropna(inplace=True)\n",
    "train_df['ShootingEfficiency'] = train_df['FG_PCT'] * train_df['FG3_PCT']\n",
    "train_df['TotalAttempts'] = train_df['FGA'] + train_df['FG3A'] + train_df['FTA']\n",
    "z_scores = np.abs(stats.zscore(train_df.select_dtypes(include=[np.number])))\n",
    "train_df = train_df[(z_scores < 3).all(axis=1)]\n",
    "\n",
    "X = train_df.drop(['position', 'SEASON_ID', 'TEAM_ID', 'PLAYER_AGE', 'MIN'], axis=1)\n",
    "y = train_df['position']\n",
    "label_encoder = LabelEncoder()\n",
    "y_encoded = label_encoder.fit_transform(y)\n",
    "X_train, X_val, y_train, y_val = train_test_split(X, y_encoded, test_size=0.2, random_state=42)\n",
    "scaler = StandardScaler()\n",
    "X_train = scaler.fit_transform(X_train)\n",
    "X_val = scaler.transform(X_val)\n",
    "skf = StratifiedKFold(n_splits=10, shuffle=True, random_state=42)"
   ]
  },
  {
   "cell_type": "code",
   "execution_count": 4,
   "metadata": {},
   "outputs": [
    {
     "name": "stdout",
     "output_type": "stream",
     "text": [
      "Decision Tree Best parameters: {'ccp_alpha': 0.0, 'max_depth': 10, 'min_samples_split': 20}, Best Score: 0.5453909596190348\n",
      "Validation Weighted F1 Score: 0.5609789559901469\n"
     ]
    }
   ],
   "source": [
    "dt = DecisionTreeClassifier(random_state=42)\n",
    "param_grid_dt = {\n",
    "    'max_depth': [5, 7, 10, 15],\n",
    "    'min_samples_split': [10, 15, 20, 25, 30],\n",
    "    'ccp_alpha': [0.0, 0.01, 0.05, 0.1]  # pruning parameter\n",
    "}\n",
    "grid_dt = GridSearchCV(dt, param_grid_dt, scoring='f1_weighted', cv=skf)\n",
    "grid_dt.fit(X_train, y_train)\n",
    "\n",
    "print(f'Decision Tree Best parameters: {grid_dt.best_params_}, Best Score: {grid_dt.best_score_}')\n",
    "\n",
    "best_dt_model = grid_dt.best_estimator_\n",
    "y_val_pred = best_dt_model.predict(X_val)\n",
    "\n",
    "val_f1_score = f1_score(y_val, y_val_pred, average='weighted')\n",
    "print(f'Validation Weighted F1 Score: {val_f1_score}')"
   ]
  },
  {
   "cell_type": "code",
   "execution_count": 5,
   "metadata": {},
   "outputs": [
    {
     "name": "stdout",
     "output_type": "stream",
     "text": [
      "Decision Tree Weighted F1 Score: 0.5609789559901469\n"
     ]
    }
   ],
   "source": [
    "# Evaluate each model and store F1 scores\n",
    "\n",
    "name = 'Decision Tree'\n",
    "model = best_dt_model\n",
    "\n",
    "y_pred = model.predict(X_val)\n",
    "score = f1_score(y_val, y_pred, average='weighted')\n",
    "f1_scores = score\n",
    "print(f'{name} Weighted F1 Score: {score}')\n",
    "# print(classification_report(y_val, y_pred, target_names=label_encoder.classes_))\n",
    "\n",
    "\n",
    "# plt.figure(figsize=(10, 6))\n",
    "# plt.bar(f1_scores.keys(), f1_scores.values(), color=['blue', 'green', 'orange'])\n",
    "# plt.title('Weighted F1 Score Comparison of Classifiers')\n",
    "# plt.xlabel('Classifier')\n",
    "# plt.ylabel('Weighted F1 Score')\n",
    "# plt.ylim(0, 1)\n",
    "# plt.show()\n"
   ]
  },
  {
   "cell_type": "code",
   "execution_count": 7,
   "metadata": {},
   "outputs": [
    {
     "name": "stdout",
     "output_type": "stream",
     "text": [
      "Decision Tree Done.\n"
     ]
    }
   ],
   "source": [
    "X_test = test_df.drop(['ID', 'SEASON_ID', 'TEAM_ID', 'PLAYER_AGE'], axis=1)\n",
    "X_test = X_test.reindex(columns=X.columns, fill_value=0)\n",
    "X_test = scaler.transform(X_test)\n",
    "\n",
    "name = 'Decision Tree'\n",
    "model = best_dt_model\n",
    "\n",
    "y_test_pred = model.predict(X_test)\n",
    "y_test_pred_decoded = label_encoder.inverse_transform(y_test_pred)\n",
    "submission_df = pd.DataFrame({'ID': test_df['ID'], 'position': y_test_pred_decoded})\n",
    "submission_file_path = f'submission_{name}.csv'\n",
    "submission_df.to_csv(submission_file_path, index=False)\n",
    "print(f\"{name} Done.\")\n"
   ]
  }
 ],
 "metadata": {
  "kernelspec": {
   "display_name": "Python 3",
   "language": "python",
   "name": "python3"
  },
  "language_info": {
   "codemirror_mode": {
    "name": "ipython",
    "version": 3
   },
   "file_extension": ".py",
   "mimetype": "text/x-python",
   "name": "python",
   "nbconvert_exporter": "python",
   "pygments_lexer": "ipython3",
   "version": "3.10.6"
  }
 },
 "nbformat": 4,
 "nbformat_minor": 2
}
