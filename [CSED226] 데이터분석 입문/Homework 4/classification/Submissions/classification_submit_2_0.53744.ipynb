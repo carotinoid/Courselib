{
 "cells": [
  {
   "cell_type": "markdown",
   "metadata": {},
   "source": [
    "In this competition, you are allowed to use one of the following options: Decision Trees, Rule-based Models, k-Nearest Neighbor, or Naïve Bayes Classifier. If not, you will get a 0 score.\n",
    "\n",
    "You can use all the deep learning library (pytorch, tensorflow, etc.)\n",
    "\n",
    "Only individual team is allowed. You should do this competition by yourself.\n",
    "\n",
    "You must submit your training code to the PLMS. TAs can check whether your code reproduces the results or not. Any significant differences in the reproduced results will result in severe penalties.\n",
    "\n",
    "If anything that violates the honor code is found, TAs will contact you. If you cannot answer reasonably, you will get severe penalties.\n",
    "\n",
    "**Evaluation criteria : Weighted F1 score**\n",
    "\n",
    "**In the classification task, your goal is to predict the position of the player. (Column ‘position’ in csv file)**"
   ]
  },
  {
   "cell_type": "markdown",
   "metadata": {},
   "source": [
    "### Import modules"
   ]
  },
  {
   "cell_type": "code",
   "execution_count": null,
   "metadata": {},
   "outputs": [],
   "source": [
    "import numpy as np\n",
    "import pandas as pd\n",
    "import matplotlib.pyplot as plt\n",
    "from sklearn.preprocessing import StandardScaler, LabelEncoder\n",
    "from sklearn.tree import DecisionTreeClassifier\n",
    "from sklearn.naive_bayes import GaussianNB\n",
    "from sklearn.neighbors import KNeighborsClassifier\n",
    "from sklearn.model_selection import train_test_split, GridSearchCV, cross_val_score\n",
    "from sklearn.model_selection import StratifiedKFold\n"
   ]
  },
  {
   "cell_type": "markdown",
   "metadata": {},
   "source": [
    "### Define and preprocessing Dataset"
   ]
  },
  {
   "cell_type": "code",
   "execution_count": null,
   "metadata": {},
   "outputs": [],
   "source": [
    "train_df = pd.read_csv('train.csv')\n",
    "test_df = pd.read_csv('test.csv')\n",
    "train_df.dropna(inplace=True)\n",
    "\n",
    "X = train_df.drop(['position', 'SEASON_ID', 'TEAM_ID'], axis=1)\n",
    "y = train_df['position']\n",
    "label_encoder = LabelEncoder()\n",
    "y_encoded = label_encoder.fit_transform(y)\n",
    "\n",
    "X_train, X_val, y_train, y_val = train_test_split(X, y_encoded, test_size=0.2, random_state=42)\n",
    "\n",
    "scaler = StandardScaler()\n",
    "X_train = scaler.fit_transform(X_train)\n",
    "X_val = scaler.transform(X_val)"
   ]
  },
  {
   "cell_type": "code",
   "execution_count": 78,
   "metadata": {},
   "outputs": [],
   "source": [
    "skf = StratifiedKFold(n_splits=10, shuffle=True, random_state=42)"
   ]
  },
  {
   "cell_type": "markdown",
   "metadata": {},
   "source": [
    "### Decision Tree"
   ]
  },
  {
   "cell_type": "code",
   "execution_count": 79,
   "metadata": {},
   "outputs": [
    {
     "name": "stdout",
     "output_type": "stream",
     "text": [
      "Decision Tree Best parameters: {'max_depth': 10, 'min_samples_split': 20}, Best Score: 0.5622818480878923\n",
      "Validation Weighted F1 Score: 0.5446772148185797\n"
     ]
    }
   ],
   "source": [
    "dt = DecisionTreeClassifier(random_state=42)\n",
    "param_grid_dt = {\n",
    "    'max_depth': [None, 3, 5, 10, 20, 30, 50],\n",
    "    'min_samples_split': [2, 5, 10, 15, 20]\n",
    "}\n",
    "grid_dt = GridSearchCV(dt, param_grid_dt, scoring='f1_weighted', cv=skf)\n",
    "grid_dt.fit(X_train, y_train)\n",
    "\n",
    "print(f'Decision Tree Best parameters: {grid_dt.best_params_}, Best Score: {grid_dt.best_score_}')\n",
    "\n",
    "best_dt_model = grid_dt.best_estimator_\n",
    "y_val_pred = best_dt_model.predict(X_val)\n",
    "\n",
    "val_f1_score = f1_score(y_val, y_val_pred, average='weighted')\n",
    "print(f'Validation Weighted F1 Score: {val_f1_score}')"
   ]
  },
  {
   "cell_type": "markdown",
   "metadata": {},
   "source": [
    "### kNN"
   ]
  },
  {
   "cell_type": "code",
   "execution_count": 80,
   "metadata": {},
   "outputs": [
    {
     "name": "stdout",
     "output_type": "stream",
     "text": [
      "K-Nearest Neighbors Best parameters: {'metric': 'manhattan', 'n_neighbors': 5, 'weights': 'distance'}, Best Score: 0.5555266755819558\n",
      "Validation Weighted F1 Score: 0.562098605078817\n"
     ]
    }
   ],
   "source": [
    "knn = KNeighborsClassifier()\n",
    "param_grid_knn = {\n",
    "    'n_neighbors': [3, 5, 7, 10, 15],\n",
    "    'weights': ['uniform', 'distance'],\n",
    "    'metric': ['euclidean', 'manhattan']\n",
    "}\n",
    "grid_knn = GridSearchCV(knn, param_grid_knn, scoring='f1_weighted', cv=skf)\n",
    "grid_knn.fit(X_train, y_train)\n",
    "\n",
    "print(f'K-Nearest Neighbors Best parameters: {grid_knn.best_params_}, Best Score: {grid_knn.best_score_}')\n",
    "\n",
    "best_knn_model = grid_knn.best_estimator_\n",
    "y_val_pred = best_knn_model.predict(X_val)\n",
    "\n",
    "val_f1_score = f1_score(y_val, y_val_pred, average='weighted')\n",
    "print(f'Validation Weighted F1 Score: {val_f1_score}')"
   ]
  },
  {
   "cell_type": "markdown",
   "metadata": {},
   "source": [
    "### Predict test data"
   ]
  },
  {
   "cell_type": "code",
   "execution_count": 81,
   "metadata": {},
   "outputs": [
    {
     "name": "stdout",
     "output_type": "stream",
     "text": [
      "DT Done.\n",
      "kNN Done.\n"
     ]
    }
   ],
   "source": [
    "X_test = test_df.drop(['ID', 'SEASON_ID', 'TEAM_ID'], axis=1)\n",
    "X_test = X_test.reindex(columns=X.columns, fill_value=0)\n",
    "X_test = scaler.transform(X_test)\n",
    "\n",
    "y_test_pred = best_dt_model.predict(X_test)\n",
    "y_test_pred_decoded = label_encoder.inverse_transform(y_test_pred)\n",
    "submission_df = pd.DataFrame({'ID': test_df['ID'], 'position': y_test_pred_decoded})\n",
    "submission_file_path = 'submission_DT.csv'\n",
    "submission_df.to_csv(submission_file_path, index=False)\n",
    "print(\"DT Done.\")\n",
    "\n",
    "y_test_pred = best_knn_model.predict(X_test)\n",
    "y_test_pred_decoded = label_encoder.inverse_transform(y_test_pred)\n",
    "submission_df = pd.DataFrame({'ID': test_df['ID'], 'position': y_test_pred_decoded})\n",
    "submission_file_path = 'submission_kNN.csv'\n",
    "submission_df.to_csv(submission_file_path, index=False)\n",
    "print(\"kNN Done.\")"
   ]
  }
 ],
 "metadata": {
  "kernelspec": {
   "display_name": "Python 3",
   "language": "python",
   "name": "python3"
  },
  "language_info": {
   "codemirror_mode": {
    "name": "ipython",
    "version": 3
   },
   "file_extension": ".py",
   "mimetype": "text/x-python",
   "name": "python",
   "nbconvert_exporter": "python",
   "pygments_lexer": "ipython3",
   "version": "3.10.6"
  }
 },
 "nbformat": 4,
 "nbformat_minor": 2
}
