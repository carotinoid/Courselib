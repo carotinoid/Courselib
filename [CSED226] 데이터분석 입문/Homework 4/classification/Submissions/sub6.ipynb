{
 "cells": [
  {
   "cell_type": "code",
   "execution_count": 1,
   "metadata": {},
   "outputs": [],
   "source": [
    "import numpy as np\n",
    "import pandas as pd\n",
    "import matplotlib.pyplot as plt\n",
    "from sklearn.preprocessing import StandardScaler, LabelEncoder\n",
    "from sklearn.tree import DecisionTreeClassifier\n",
    "from sklearn.naive_bayes import GaussianNB\n",
    "from sklearn.neighbors import KNeighborsClassifier\n",
    "from sklearn.model_selection import train_test_split, GridSearchCV, cross_val_score\n",
    "from sklearn.model_selection import StratifiedKFold\n",
    "from sklearn.metrics import f1_score, classification_report, confusion_matrix\n",
    "from scipy import stats\n",
    "from sklearn.manifold import TSNE"
   ]
  },
  {
   "cell_type": "code",
   "execution_count": 57,
   "metadata": {},
   "outputs": [
    {
     "name": "stdout",
     "output_type": "stream",
     "text": [
      "0.5569565409221646\n"
     ]
    }
   ],
   "source": [
    "train_df = pd.read_csv('train.csv')\n",
    "test_df = pd.read_csv('test.csv')\n",
    "# Drop missing data\n",
    "train_df.dropna(inplace=True)\n",
    "# Drop outliers\n",
    "# z_scores = np.abs(stats.zscore(train_df.select_dtypes(include=[np.number])))\n",
    "# train_df = train_df[(z_scores < 3).all(axis=1)]\n",
    "# X = train_df.drop(['position', 'SEASON_ID', 'TEAM_ID'], axis=1)\n",
    "X = train_df.drop(['position', 'SEASON_ID', 'TEAM_ID', 'GS', 'GP', 'MIN'], axis=1)\n",
    "y = train_df['position']\n",
    "# standardize data\n",
    "# scaler = StandardScaler()\n",
    "# X = scaler.fit_transform(X)\n",
    "# encode target\n",
    "label_encoder = LabelEncoder()\n",
    "y_encoded = label_encoder.fit_transform(y)\n",
    "\n",
    "# split data into training and validation sets\n",
    "X_train, X_val, y_train, y_val = train_test_split(X, y_encoded, test_size=0.2, random_state=42)\n",
    "\n",
    "# Decision Tree\n",
    "dt = KNeighborsClassifier()\n",
    "model = dt.fit(X_train, y_train)\n",
    "\n",
    "# f1 score\n",
    "y_pred = model.predict(X_val)\n",
    "f1 = f1_score(y_val, y_pred, average='weighted')\n",
    "print(f1)"
   ]
  },
  {
   "cell_type": "code",
   "execution_count": 59,
   "metadata": {},
   "outputs": [],
   "source": [
    "X_test = test_df\n",
    "X_test = X_test.drop(['SEASON_ID', 'TEAM_ID', 'ID'], axis=1)\n",
    "# X_test = scaler.transform(X_test)\n",
    "y_test = model.predict(X_test)\n",
    "y_test = label_encoder.inverse_transform(y_test)\n",
    "\n",
    "result_df = pd.DataFrame({'ID': np.arange(1, len(y_test) + 1), 'position': y_test})\n",
    "result_df.to_csv('pure_knn.csv', index=False)"
   ]
  }
 ],
 "metadata": {
  "kernelspec": {
   "display_name": "Python 3",
   "language": "python",
   "name": "python3"
  },
  "language_info": {
   "codemirror_mode": {
    "name": "ipython",
    "version": 3
   },
   "file_extension": ".py",
   "mimetype": "text/x-python",
   "name": "python",
   "nbconvert_exporter": "python",
   "pygments_lexer": "ipython3",
   "version": "3.10.6"
  }
 },
 "nbformat": 4,
 "nbformat_minor": 2
}
