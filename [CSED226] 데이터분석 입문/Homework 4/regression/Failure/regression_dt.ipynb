{
 "cells": [
  {
   "cell_type": "markdown",
   "metadata": {},
   "source": [
    "In the regression task, your goal is to predict the minutes played in a year. (Column “MIN” in csv file)"
   ]
  },
  {
   "cell_type": "code",
   "execution_count": null,
   "metadata": {},
   "outputs": [],
   "source": [
    "import numpy as np\n",
    "import pandas as pd\n",
    "import matplotlib.pyplot as plt\n",
    "from sklearn.preprocessing import StandardScaler, LabelEncoder\n",
    "from sklearn.tree import DecisionTreeClassifier, DecisionTreeRegressor\n",
    "from sklearn.naive_bayes import GaussianNB\n",
    "from sklearn.neighbors import KNeighborsClassifier\n",
    "from sklearn.model_selection import train_test_split, GridSearchCV, cross_val_score, RandomizedSearchCV\n",
    "from sklearn.model_selection import StratifiedKFold, KFold\n",
    "from sklearn.metrics import f1_score, classification_report, confusion_matrix\n",
    "from scipy import stats\n",
    "from sklearn.manifold import TSNE"
   ]
  },
  {
   "cell_type": "code",
   "execution_count": null,
   "metadata": {},
   "outputs": [],
   "source": [
    "train_df = pd.read_csv('train.csv')\n",
    "test_df = pd.read_csv('test.csv')\n",
    "\n",
    "# Drop the 'id' column\n",
    "train_df = train_df.drop(columns=['SEASON_ID', 'TEAM_ID', 'position'])\n",
    "test_df = test_df.drop(columns=['SEASON_ID', 'TEAM_ID', 'ID'])\n",
    "\n",
    "# Delete rows with missing values\n",
    "train_df = train_df.dropna()\n",
    "\n",
    "z_scores = np.abs(stats.zscore(train_df))\n",
    "train_df = train_df[(z_scores < 3).all(axis=1)]\n",
    "\n",
    "# Split the data into features and target\n",
    "X = train_df.drop(columns='MIN')\n",
    "y = train_df['MIN']\n",
    "\n",
    "# Standardize the features\n",
    "scaler = StandardScaler()\n",
    "X = scaler.fit_transform(X)\n",
    "\n",
    "# Split the data into training and testing sets\n",
    "X_train, X_test, y_train, y_test = train_test_split(X, y, test_size=0.2, random_state=42)\n",
    "\n",
    "\n",
    "skf = StratifiedKFold(n_splits=5, shuffle=True, random_state=42)\n"
   ]
  },
  {
   "cell_type": "code",
   "execution_count": 17,
   "metadata": {},
   "outputs": [
    {
     "name": "stderr",
     "output_type": "stream",
     "text": [
      "c:\\Users\\carot\\AppData\\Local\\Programs\\Python\\Python310\\lib\\site-packages\\sklearn\\model_selection\\_split.py:776: UserWarning: The least populated class in y has only 1 members, which is less than n_splits=5.\n",
      "  warnings.warn(\n"
     ]
    },
    {
     "name": "stdout",
     "output_type": "stream",
     "text": [
      "Best parameters: {'max_depth': np.int64(8), 'max_features': None, 'min_samples_leaf': np.int64(9), 'min_samples_split': np.int64(2)}\n",
      "Best score: -35876.48795709949\n"
     ]
    },
    {
     "name": "stderr",
     "output_type": "stream",
     "text": [
      "c:\\Users\\carot\\AppData\\Local\\Programs\\Python\\Python310\\lib\\site-packages\\sklearn\\model_selection\\_split.py:776: UserWarning: The least populated class in y has only 1 members, which is less than n_splits=5.\n",
      "  warnings.warn(\n"
     ]
    },
    {
     "name": "stdout",
     "output_type": "stream",
     "text": [
      "Cross-validation scores: [-32666.84851956 -37271.97861888 -35089.25050814 -37731.44218041\n",
      " -36622.91995851]\n",
      "Mean score: -35876.48795709949\n"
     ]
    }
   ],
   "source": [
    "# Regression Tree\n",
    "reg_tree = DecisionTreeRegressor(random_state=42)\n",
    "\n",
    "# Grid search\n",
    "param_grid = {\n",
    "    'max_depth': np.arange(1, 20),\n",
    "    'min_samples_split': np.arange(2, 10),\n",
    "    'min_samples_leaf': np.arange(1, 10),\n",
    "    'max_features': [None]\n",
    "}\n",
    "grid_search = GridSearchCV(reg_tree, param_grid, cv=skf, scoring='neg_mean_squared_error')\n",
    "grid_search.fit(X_train, y_train)\n",
    "print('Best parameters:', grid_search.best_params_)\n",
    "print('Best score:', grid_search.best_score_)\n",
    "reg_tree = grid_search.best_estimator_\n",
    "\n",
    "# # Randomized search\n",
    "# param_dist = {\n",
    "#     'max_depth': np.arange(1, 100),\n",
    "#     'min_samples_split': np.arange(2, 100),\n",
    "#     'min_samples_leaf': np.arange(1, 100)\n",
    "# }\n",
    "# random_search = RandomizedSearchCV(\n",
    "#     reg_tree, param_distributions=param_dist, \n",
    "#     n_iter=50, cv=skf, scoring='neg_mean_absolute_error', \n",
    "#     random_state=42, n_jobs=-1\n",
    "# )\n",
    "# random_search.fit(X_train, y_train)\n",
    "# print('Best parameters:', random_search.best_params_)\n",
    "# print('Best score:', random_search.best_score_)\n",
    "# reg_tree = random_search.best_estimator_\n",
    "\n",
    "# Cross-validation\n",
    "scores = cross_val_score(reg_tree, X_train, y_train, cv=skf, scoring='neg_mean_squared_error')\n",
    "print('Cross-validation scores:', scores)\n",
    "print('Mean score:', scores.mean())\n",
    "\n",
    "\n",
    "# Best parameters: {'max_depth': np.int64(13), 'max_features': None, 'min_samples_leaf': np.int64(16), 'min_samples_split': np.int64(2)}"
   ]
  },
  {
   "cell_type": "code",
   "execution_count": 15,
   "metadata": {},
   "outputs": [],
   "source": [
    "# test the model with test_df\n",
    "# save csv ['INDEX', 'MIN']\n",
    "\n",
    "X_test = test_df\n",
    "X_test = scaler.transform(X_test)\n",
    "y_test = reg_tree.predict(X_test)\n",
    "\n",
    "\n",
    "result_df = pd.DataFrame({'ID': np.arange(1, len(y_test) + 1), 'MIN': y_test})\n",
    "result_df.to_csv('result.csv', index=False)\n"
   ]
  }
 ],
 "metadata": {
  "kernelspec": {
   "display_name": "Python 3",
   "language": "python",
   "name": "python3"
  },
  "language_info": {
   "codemirror_mode": {
    "name": "ipython",
    "version": 3
   },
   "file_extension": ".py",
   "mimetype": "text/x-python",
   "name": "python",
   "nbconvert_exporter": "python",
   "pygments_lexer": "ipython3",
   "version": "3.10.6"
  }
 },
 "nbformat": 4,
 "nbformat_minor": 2
}
