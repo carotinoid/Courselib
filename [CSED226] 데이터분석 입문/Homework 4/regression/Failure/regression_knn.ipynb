{
 "cells": [
  {
   "cell_type": "markdown",
   "metadata": {},
   "source": [
    "In the regression task, your goal is to predict the minutes played in a year. (Column “MIN” in csv file)"
   ]
  },
  {
   "cell_type": "code",
   "execution_count": 11,
   "metadata": {},
   "outputs": [],
   "source": [
    "import numpy as np\n",
    "import pandas as pd\n",
    "import matplotlib.pyplot as plt\n",
    "from sklearn.preprocessing import StandardScaler, LabelEncoder\n",
    "from sklearn.tree import DecisionTreeClassifier, DecisionTreeRegressor\n",
    "from sklearn.naive_bayes import GaussianNB\n",
    "from sklearn.neighbors import KNeighborsClassifier, KNeighborsRegressor\n",
    "from sklearn.model_selection import train_test_split, GridSearchCV, cross_val_score, RandomizedSearchCV\n",
    "from sklearn.model_selection import StratifiedKFold\n",
    "from sklearn.metrics import f1_score, classification_report, confusion_matrix\n",
    "from scipy import stats\n",
    "from sklearn.manifold import TSNE"
   ]
  },
  {
   "cell_type": "code",
   "execution_count": 12,
   "metadata": {},
   "outputs": [],
   "source": [
    "train_df = pd.read_csv('train.csv')\n",
    "test_df = pd.read_csv('test.csv')\n",
    "\n",
    "# Drop the 'id' column\n",
    "train_df = train_df.drop(columns=['SEASON_ID', 'TEAM_ID', 'position'])\n",
    "test_df = test_df.drop(columns=['SEASON_ID', 'TEAM_ID', 'ID'])\n",
    "\n",
    "# Delete rows with missing values\n",
    "train_df = train_df.dropna()\n",
    "\n",
    "z_scores = np.abs(stats.zscore(train_df))\n",
    "train_df = train_df[(z_scores < 3).all(axis=1)]\n",
    "\n",
    "# Split the data into features and target\n",
    "X = train_df.drop(columns='MIN')\n",
    "y = train_df['MIN']\n",
    "\n",
    "# Standardize the features\n",
    "scaler = StandardScaler()\n",
    "X = scaler.fit_transform(X)\n",
    "\n",
    "# Split the data into training and testing sets\n",
    "X_train, X_test, y_train, y_test = train_test_split(X, y, test_size=0.2, random_state=42)\n",
    "\n",
    "\n",
    "skf = StratifiedKFold(n_splits=5, shuffle=True, random_state=42)\n"
   ]
  },
  {
   "cell_type": "code",
   "execution_count": 13,
   "metadata": {},
   "outputs": [
    {
     "name": "stderr",
     "output_type": "stream",
     "text": [
      "c:\\Users\\carot\\AppData\\Local\\Programs\\Python\\Python310\\lib\\site-packages\\sklearn\\model_selection\\_split.py:776: UserWarning: The least populated class in y has only 1 members, which is less than n_splits=5.\n",
      "  warnings.warn(\n"
     ]
    },
    {
     "name": "stdout",
     "output_type": "stream",
     "text": [
      "kNN Regression\n",
      "Best parameters: {'weights': 'distance', 'n_neighbors': np.int64(18), 'algorithm': 'kd_tree'}\n",
      "Best score: -26381.890391991677\n",
      "Test score: -25212.11420564825\n"
     ]
    }
   ],
   "source": [
    "# kNN Regression\n",
    "knn_reg = KNeighborsRegressor()\n",
    "\n",
    "param_grid = {\n",
    "    'n_neighbors': np.arange(1, 21),\n",
    "    'weights': ['uniform', 'distance'],\n",
    "    'algorithm': ['auto', 'ball_tree', 'kd_tree', 'brute']\n",
    "}\n",
    "\n",
    "knn_reg_cv = RandomizedSearchCV(knn_reg, param_grid, cv=skf, n_iter=100, n_jobs=-1, random_state=42, scoring='neg_mean_squared_error')\n",
    "knn_reg_cv.fit(X_train, y_train)\n",
    "knn_reg = knn_reg_cv.best_estimator_\n",
    "print('kNN Regression')\n",
    "print('Best parameters:', knn_reg_cv.best_params_)\n",
    "print('Best score:', knn_reg_cv.best_score_)\n",
    "print('Test score:', knn_reg_cv.score(X_test, y_test))\n",
    "\n"
   ]
  },
  {
   "cell_type": "code",
   "execution_count": 14,
   "metadata": {},
   "outputs": [],
   "source": [
    "# test the model with test_df\n",
    "# save csv ['INDEX', 'MIN']\n",
    "\n",
    "X_test = test_df\n",
    "X_test = scaler.transform(X_test)\n",
    "y_test = knn_reg.predict(X_test)\n",
    "\n",
    "result_df = pd.DataFrame({'ID': np.arange(1, len(y_test) + 1), 'MIN': y_test})\n",
    "result_df.to_csv('result.csv', index=False)\n"
   ]
  }
 ],
 "metadata": {
  "kernelspec": {
   "display_name": "Python 3",
   "language": "python",
   "name": "python3"
  },
  "language_info": {
   "codemirror_mode": {
    "name": "ipython",
    "version": 3
   },
   "file_extension": ".py",
   "mimetype": "text/x-python",
   "name": "python",
   "nbconvert_exporter": "python",
   "pygments_lexer": "ipython3",
   "version": "3.10.6"
  }
 },
 "nbformat": 4,
 "nbformat_minor": 2
}
