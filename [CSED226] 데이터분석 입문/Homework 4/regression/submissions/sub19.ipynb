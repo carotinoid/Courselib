{
 "cells": [
  {
   "cell_type": "code",
   "execution_count": 41,
   "metadata": {},
   "outputs": [],
   "source": [
    "import numpy as np\n",
    "import pandas as pd\n",
    "import matplotlib.pyplot as plt\n",
    "from sklearn.preprocessing import StandardScaler, LabelEncoder, MinMaxScaler\n",
    "from sklearn.tree import DecisionTreeClassifier, DecisionTreeRegressor\n",
    "from sklearn.naive_bayes import GaussianNB\n",
    "from sklearn.neighbors import KNeighborsClassifier, KNeighborsRegressor\n",
    "from sklearn.model_selection import train_test_split, GridSearchCV, cross_val_score, RandomizedSearchCV\n",
    "from sklearn.model_selection import StratifiedKFold, KFold\n",
    "from sklearn.metrics import f1_score, classification_report, confusion_matrix\n",
    "from scipy import stats\n",
    "from sklearn.manifold import TSNE\n",
    "from sklearn.impute import KNNImputer"
   ]
  },
  {
   "cell_type": "code",
   "execution_count": 33,
   "metadata": {},
   "outputs": [],
   "source": [
    "train_df = pd.read_csv('train.csv')\n",
    "test_df = pd.read_csv('test.csv')\n",
    "\n",
    "# Drop the 'id' column\n",
    "train_df = train_df.drop(columns=['SEASON_ID', 'TEAM_ID', 'position'])\n",
    "test_df = test_df.drop(columns=['SEASON_ID', 'TEAM_ID', 'ID'])\n",
    "\n",
    "# Delete rows with missing values\n",
    "train_df.dropna(inplace=True)\n",
    "\n",
    "# Delete outliers\n",
    "# z_scores = np.abs(stats.zscore(train_df))\n",
    "# train_df = train_df[(z_scores < 3).all(axis=1)]\n",
    "\n",
    "# train_df['ShootingEfficiency'] = train_df['FG_PCT'] * train_df['FG3_PCT']\n",
    "# test_df['ShootingEfficiency'] = test_df['FG_PCT'] * test_df['FG3_PCT']\n",
    "\n",
    "# train_df['TotalAttempts'] = train_df['FGA'] + train_df['FG3A'] + train_df['FTA']\n",
    "# test_df['TotalAttempts'] = test_df['FGA'] + test_df['FG3A'] + test_df['FTA']\n",
    "\n",
    "\n",
    "# Split the data into features and target\n",
    "X = train_df.drop(columns='MIN')\n",
    "y = train_df['MIN']\n",
    "\n",
    "\n",
    "# TSNE\n",
    "tsne = TSNE(n_components=3, random_state=42)\n",
    "\n",
    "X_tsne = tsne.fit_transform(X)\n",
    "X_tsne_df = pd.DataFrame(X_tsne, columns=['TSNE1', 'TSNE2', 'TSNE3'])\n",
    "X = pd.concat([X.reset_index(drop=True), X_tsne_df], axis=1)\n",
    "\n",
    "test_df_tsne = tsne.fit_transform(test_df)\n",
    "test_df_tsne_df = pd.DataFrame(test_df_tsne, columns=['TSNE1', 'TSNE2', 'TSNE3'])\n",
    "test_df = pd.concat([test_df.reset_index(drop=True), test_df_tsne_df], axis=1)"
   ]
  },
  {
   "cell_type": "code",
   "execution_count": 45,
   "metadata": {},
   "outputs": [
    {
     "name": "stdout",
     "output_type": "stream",
     "text": [
      "{'algorithm': 'auto', 'n_neighbors': 13, 'weights': 'distance'}\n",
      "-28862.69464676863\n",
      "loss: 25726.610127200805\n"
     ]
    }
   ],
   "source": [
    "# standardize data\n",
    "# scaler = StandardScaler()\n",
    "# X = scaler.fit_transform(X)\n",
    "\n",
    "# minmax scale data\n",
    "# scaler = MinMaxScaler()\n",
    "# X = scaler.fit_transform(X)\n",
    "\n",
    "# Standardize the features\n",
    "# Split the data into training and testing sets\n",
    "X_train, X_val, y_train, y_val = train_test_split(X, y, test_size=0.1, random_state=42)\n",
    "\n",
    "# skf = StratifiedKFold(n_splits=5, shuffle=True, random_state=42)\n",
    "\n",
    "# algo = ['auto', 'ball_tree', 'kd_tree', 'brute']\n",
    "# wei = ['uniform', 'distance']\n",
    "# n_nei = list(range(3, 15))\n",
    "\n",
    "# k-fold\n",
    "kf = KFold(n_splits=5, shuffle=True, random_state=42)\n",
    "# kf = StratifiedKFold(n_splits=5, shuffle=True, random_state=42)\n",
    "\n",
    "model = KNeighborsRegressor()\n",
    "params = {\n",
    "    'n_neighbors': list(range(3, 27, 2)),\n",
    "    'weights': ['uniform', 'distance'],\n",
    "    'algorithm': ['auto', 'ball_tree', 'kd_tree', 'brute']\n",
    "}\n",
    "\n",
    "grid_search = GridSearchCV(model, params, cv = kf, scoring='neg_mean_squared_error', n_jobs=-1)\n",
    "grid_search.fit(X_train, y_train)\n",
    "print(grid_search.best_params_)\n",
    "print(grid_search.best_score_)\n",
    "\n",
    "y_pred = grid_search.predict(X_val)\n",
    "loss = np.mean((y_val - y_pred) ** 2)\n",
    "print(f\"loss: {loss}\")\n",
    "\n",
    "\n",
    "\n",
    "\n",
    "# !!!!!!!!!!!!!!!\n",
    "# model = KNeighborsRegressor(n_neighbors=9, weights='distance', algorithm='auto')\n",
    "# model.fit(X_train, y_train)\n",
    "# # MSE loss\n",
    "# y_pred = model.predict(X_val)\n",
    "# loss = np.mean((y_val - y_pred) ** 2)\n",
    "# print(f\"loss: {loss}\")\n",
    "# !!!!!!!!!!!!!!! 25382\n"
   ]
  },
  {
   "cell_type": "code",
   "execution_count": 46,
   "metadata": {},
   "outputs": [],
   "source": [
    "X_test = test_df\n",
    "# y_test = model.predict(X_test)\n",
    "y_test = grid_search.predict(X_test)\n",
    "\n",
    "result_df = pd.DataFrame({'ID': np.arange(1, len(y_test) + 1), 'position': y_test})\n",
    "result_df.to_csv('result.csv', index=False)"
   ]
  }
 ],
 "metadata": {
  "kernelspec": {
   "display_name": "Python 3",
   "language": "python",
   "name": "python3"
  },
  "language_info": {
   "codemirror_mode": {
    "name": "ipython",
    "version": 3
   },
   "file_extension": ".py",
   "mimetype": "text/x-python",
   "name": "python",
   "nbconvert_exporter": "python",
   "pygments_lexer": "ipython3",
   "version": "3.10.6"
  }
 },
 "nbformat": 4,
 "nbformat_minor": 2
}
